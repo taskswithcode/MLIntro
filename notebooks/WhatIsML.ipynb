{
  "nbformat": 4,
  "nbformat_minor": 0,
  "metadata": {
    "colab": {
      "name": "WhatIsML.ipynb",
      "provenance": [],
      "include_colab_link": true
    },
    "kernelspec": {
      "name": "python3",
      "display_name": "Python 3"
    },
    "language_info": {
      "name": "python"
    }
  },
  "cells": [
    {
      "cell_type": "markdown",
      "metadata": {
        "id": "view-in-github",
        "colab_type": "text"
      },
      "source": [
        "<a href=\"https://colab.research.google.com/github/taskswithcode/MLIntro/blob/main/notebooks/WhatIsML.ipynb\" target=\"_parent\"><img src=\"https://colab.research.google.com/assets/colab-badge.svg\" alt=\"Open In Colab\"/></a>"
      ]
    },
    {
      "cell_type": "markdown",
      "source": [
        "##### **What is Machine Learning?**"
      ],
      "metadata": {
        "id": "yqtpHlbk2ehd"
      }
    },
    {
      "cell_type": "markdown",
      "source": [
        "This is the notebook for the video\n",
        "- [What is Machine Learning?](https://www.youtube.com/shorts/qvmrsomzv54)\n"
      ],
      "metadata": {
        "id": "fGa1CrF1lyMn"
      }
    },
    {
      "cell_type": "markdown",
      "source": [
        "In this notebook, we will examine a simple program that demonstrates a fundamental concept often employed in machine learning:\n",
        "\n",
        "- **Learning through trial and error**\n",
        "\n",
        "\n",
        "The essence of this program is:\n",
        "\n",
        "* It begins with knowledge of numbers 1 through 100.\n",
        "* It makes a prediction (a guess).\n",
        "* Based on feedback, it narrows down its possible choices.\n",
        "* The program repeats its predictions until it guesses the correct number.\n",
        "\n",
        "**_This program is just a basic and illustrative example. Real-world machine learning algorithms are much more sophisticated._**"
      ],
      "metadata": {
        "id": "2PVhRppdQmdp"
      }
    },
    {
      "cell_type": "code",
      "source": [
        "import random\n",
        "\n",
        "MAX_NUMBER = 100\n",
        "MAX_ATTEMPTS = int(MAX_NUMBER/10)\n",
        "\n",
        "random.seed(123)\n",
        "\n",
        "class LearningMachine:\n",
        "    def __init__(self):\n",
        "        self.possible_numbers = list(range(1, MAX_NUMBER + 1))\n",
        "\n",
        "    def guess_number(self):\n",
        "        return random.choice(self.possible_numbers)\n",
        "\n",
        "    def feedback(self, guessed_number, actual_number):\n",
        "        if guessed_number < actual_number:\n",
        "            return \"too low\"\n",
        "        elif guessed_number > actual_number:\n",
        "            return \"too high\"\n",
        "        else:\n",
        "            return \"correct\"\n",
        "\n",
        "    def learn_from_mistake(self, guessed_number, feedback):\n",
        "        if feedback == \"too low\":\n",
        "            self.possible_numbers = [num for num in self.possible_numbers if num > guessed_number] #It narrows its search range to numbers greater than the guess\n",
        "        elif feedback == \"too high\":\n",
        "            self.possible_numbers = [num for num in self.possible_numbers if num < guessed_number] #It narrows its search range to numbers less than the guess\n",
        "\n",
        "def simple_learning_loop():\n",
        "    actual_number = random.randint(1, MAX_NUMBER)\n",
        "    machine = LearningMachine()\n",
        "\n",
        "    print(f\"Teaching the machine to guess a number between 1 and {MAX_NUMBER}...\\n\")\n",
        "    for attempt in range(1, MAX_ATTEMPTS):\n",
        "        guessed_number = machine.guess_number()\n",
        "        print(f\"Attempt {attempt}: Machine's guess is {guessed_number}\")\n",
        "\n",
        "        user_feedback = machine.feedback(guessed_number, actual_number)\n",
        "\n",
        "        if user_feedback == \"correct\":\n",
        "            print(\"The machine guessed it right!\")\n",
        "            break\n",
        "        else:\n",
        "            adjustment = \"It narrows its search range to numbers greater than the guess\" if user_feedback == \"too low\" else \"It narrows its search range to numbers less than the guess\"\n",
        "            print(f\"The guess was {user_feedback}. The machine will learn from this mistake. {adjustment}\\n\")\n",
        "            machine.learn_from_mistake(guessed_number, user_feedback)\n",
        "\n",
        "simple_learning_loop()\n"
      ],
      "metadata": {
        "id": "t9otjA0wZjTq",
        "outputId": "691fbf36-71d8-4fc4-a51e-c55ac4ccc26e",
        "colab": {
          "base_uri": "https://localhost:8080/"
        }
      },
      "execution_count": null,
      "outputs": [
        {
          "output_type": "stream",
          "name": "stdout",
          "text": [
            "Teaching the machine to guess a number between 1 and 100...\n",
            "\n",
            "Attempt 1: Machine's guess is 35\n",
            "The guess was too high. The machine will learn from this mistake. It narrows its search range to numbers less than the guess\n",
            "\n",
            "Attempt 2: Machine's guess is 6\n",
            "The guess was too low. The machine will learn from this mistake. It narrows its search range to numbers greater than the guess\n",
            "\n",
            "Attempt 3: Machine's guess is 31\n",
            "The guess was too high. The machine will learn from this mistake. It narrows its search range to numbers less than the guess\n",
            "\n",
            "Attempt 4: Machine's guess is 20\n",
            "The guess was too high. The machine will learn from this mistake. It narrows its search range to numbers less than the guess\n",
            "\n",
            "Attempt 5: Machine's guess is 11\n",
            "The guess was too high. The machine will learn from this mistake. It narrows its search range to numbers less than the guess\n",
            "\n",
            "Attempt 6: Machine's guess is 7\n",
            "The machine guessed it right!\n"
          ]
        }
      ]
    },
    {
      "cell_type": "markdown",
      "source": [
        "\n",
        "\n",
        "\n",
        "---\n",
        "\n",
        "The program above provided illustrates a form of machine learning called **reinforcement learning**, in a very rudimentary manner.\n",
        "\n",
        "- **Action:** The machine (or agent, in reinforcement learning terms) takes an action, which in this case is guessing a number.\n",
        "\n",
        "- **Feedback:** After the action is taken, there is feedback provided. The feedback here is based on comparing the machine's guess to the actual number. The machine is told whether its guess was \"too high,\" \"too low,\" or \"correct.\"\n",
        "\n",
        "- **Adjustment based on Feedback:** The machine then uses this feedback to adjust its subsequent actions. If it's told that its guess was \"too high,\" it will remove all numbers greater than its guess from consideration for the next attempt. Similarly, if the guess was \"too low,\" it will remove numbers lower than its guess.\n",
        "\n",
        "While this example is much more simplistic than real-world reinforcement learning scenarios, it encapsulates the basic principle of taking actions, receiving feedback, and adjusting future actions based on that feedback.\n",
        "\n",
        "\n",
        "These are the key differences between this progam and real-world machine learning, particularly learning using neural networks:\n",
        "\n",
        "**Complexity:**\n",
        "\n",
        "- Real-world neural networks consist of layers of interconnected nodes or \"neurons.\" Each connection has a weight (which is essentially a number), and each neuron has an activation function.\n",
        "- Neural nets are designed to extract features important for a task. They leverage interconnected neurons, where the weights and biases are adjusted during training to emphasize important features.\n",
        "- The simple program uses a basic list-based approach without any such complexity.\n",
        "\n",
        "**Learning Mechanism:**\n",
        "\n",
        "- Neural networks adjust their weights using algorithms like backpropagation in response to the error in their predictions.\n",
        "- The simple program adjusts its future guesses based on a basic feedback mechanism.\n",
        "\n",
        "**Volume of Data:**\n",
        "\n",
        "- Neural networks typically require large amounts of data to train and make accurate predictions.\n",
        "- The simple program operates on a predefined range of numbers and doesn't \"train\" on data.\n",
        "\n",
        "**Generalization:**\n",
        "\n",
        "- Neural networks, when trained properly, can generalize from their training data to make accurate predictions on new, unseen data.\n",
        "- The simple program makes decisions based solely on immediate feedback without any generalization.\n",
        "\n",
        "\n",
        "**Continuous vs. Discrete:**\n",
        "\n",
        "- Many neural networks work with both **discrete and  continuous data(decimal or floating point numbers)** and adjust weights in **small continuous** increments.\n",
        "- The simple program makes discrete adjustments (removing numbers from consideration) on discrete data.\n",
        "\n",
        "Lastly as mentioned ealier, the simple progam illustrates a form of reinforcement learning.\n",
        "\n",
        "Machine learning programs (or models) learn by other methods too such as supervised and unsupervised learning:\n",
        "\n",
        "**Supervised Learning:**\n",
        "\n",
        "- It involves training a model on labeled data, i.e., input data where the correct answer is known.\n",
        "- The model learns a mapping from inputs to outputs.\n",
        "- The simple program doesn't capture this since there's no training phase with labeled data.\n",
        "\n",
        "\n",
        "**Unsupervised Learning:**\n",
        "\n",
        "- It involves training a model on data without labeled answers, often to discover patterns or relationships within the data (e.g., clustering similar data or reducing the features in data to the most important ones).\n",
        "- The simple program doesn't capture this either, as there's no exploration of patterns or structures in data.\n",
        "\n",
        "In summary, while the simple program offers an illustrative example of a machine learning concept, real-world machine learning, especially neural network-based models, involves much more complexity, nuanced learning mechanisms, and specialized architectures and techniques best suited for a specific task.\n",
        "\n",
        "---\n",
        "\n",
        "\n"
      ],
      "metadata": {
        "id": "W3mMT_Q_O0-h"
      }
    }
  ]
}