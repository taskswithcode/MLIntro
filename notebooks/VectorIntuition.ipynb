{
  "nbformat": 4,
  "nbformat_minor": 0,
  "metadata": {
    "colab": {
      "name": "VectorIntuition.ipynb",
      "provenance": [],
      "include_colab_link": true
    },
    "kernelspec": {
      "name": "python3",
      "display_name": "Python 3"
    },
    "language_info": {
      "name": "python"
    }
  },
  "cells": [
    {
      "cell_type": "markdown",
      "metadata": {
        "id": "view-in-github",
        "colab_type": "text"
      },
      "source": [
        "<a href=\"https://colab.research.google.com/github/taskswithcode/MLIntro/blob/main/notebooks/VectorIntuition.ipynb\" target=\"_parent\"><img src=\"https://colab.research.google.com/assets/colab-badge.svg\" alt=\"Open In Colab\"/></a>"
      ]
    },
    {
      "cell_type": "markdown",
      "source": [
        "This is the notebook for the video\n",
        "- [Intuition for Vectors in Machine learning?](https://youtube.com/shorts/lTV9mYCniS4?si=6InAJ9ABDKAzokeH)\n",
        "- [Code walkthrough of this notebook](https://youtu.be/Y7CvMhjBsfw) [![Code Walkthrough](https://raw.githubusercontent.com/taskswithcode/image_assets/main/.github/images/walkthrough.svg)](https://youtu.be/Y7CvMhjBsfw)\n"
      ],
      "metadata": {
        "id": "fGa1CrF1lyMn"
      }
    },
    {
      "cell_type": "markdown",
      "source": [
        "In this notebook, we will first develop an intuition for what a vector is and then go through the code for few basic vector operations often used in machine learning.\n",
        "- Adding two vectors\n",
        "- Subtracting one vector from another\n",
        "- Scaling a vector\n",
        "- Finding the angle betweeen two vectors\n",
        "\n",
        "We will then look at a simple model that utilizes all these operations.\n",
        "\n"
      ],
      "metadata": {
        "id": "2PVhRppdQmdp"
      }
    },
    {
      "cell_type": "markdown",
      "source": [
        "**What is a vector?**\n",
        "  - A vector is like an arrow. It has a length and direction.\n",
        "  - We represent them in code as a list of numbers.\n",
        "    - For example [3] is a one-dimensional vector, [2,3] is a two-dimensional vector, [.1, -.2, 4, 5.5, 6] is a 5-dimensional vector\n",
        "  - We can visualize a two dimensional vector [3,4] as follows\n",
        "    - Imagine we start at the origin and walk three steps to the right and four steps up.\n",
        "    - The vector [3,4] captures how far and in what direction we moved away from the origin\n",
        "    - the numbers 3 and 4 are often called scalars. They can be positive or negative. For instance, [-3,4] can be visualized as the vector we get by connecting the origin to the point we reach by walking three steps to the left and 4 steps up.\n",
        "  - Even though we cannot visualize any vector more than three dimensions, the vector operations we perform below applies to a vector of any dimension, starting from an 1-dimensional vector to a vector of n-dimensions (n is some positive integer)\n"
      ],
      "metadata": {
        "id": "Eo3gBtu-bmqP"
      }
    },
    {
      "cell_type": "markdown",
      "source": [
        "Two-dimensional vectors visualized\n",
        "\n",
        "\n",
        "\n",
        "\n"
      ],
      "metadata": {
        "id": "RF4GmQ2_xLO3"
      }
    }
  ]
}