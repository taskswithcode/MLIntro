{
  "nbformat": 4,
  "nbformat_minor": 0,
  "metadata": {
    "colab": {
      "name": "VectorIntuition.ipynb",
      "provenance": [],
      "include_colab_link": true
    },
    "kernelspec": {
      "name": "python3",
      "display_name": "Python 3"
    },
    "language_info": {
      "name": "python"
    }
  },
  "cells": [
    {
      "cell_type": "markdown",
      "metadata": {
        "id": "view-in-github",
        "colab_type": "text"
      },
      "source": [
        "<a href=\"https://colab.research.google.com/github/taskswithcode/MLIntro/blob/main/notebooks/VectorIntuition.ipynb\" target=\"_parent\"><img src=\"https://colab.research.google.com/assets/colab-badge.svg\" alt=\"Open In Colab\"/></a>"
      ]
    },
    {
      "cell_type": "markdown",
      "source": [
        "This is the notebook for the video\n",
        "- [Intuition for Vectors in Machine learning?](https://youtube.com/shorts/lTV9mYCniS4?si=6InAJ9ABDKAzokeH)\n",
        "- [Code walkthrough of this notebook](https://youtu.be/Y7CvMhjBsfw) [![Code Walkthrough](https://raw.githubusercontent.com/taskswithcode/image_assets/main/.github/images/walkthrough.svg)](https://youtu.be/Y7CvMhjBsfw)\n"
      ],
      "metadata": {
        "id": "fGa1CrF1lyMn"
      }
    },
    {
      "cell_type": "markdown",
      "source": [
        "In this notebook, we will first develop an intuition for what a vector is and then go through the code for few basic vector operations often used in machine learning.\n",
        "- Adding two vectors\n",
        "- Subtracting one vector from another\n",
        "- Finding length of a vector\n",
        "- Scaling a vector\n",
        "- Finding the angle betweeen two vectors\n",
        "\n",
        "We will then look at a simple model that utilizes all these operations.\n",
        "\n"
      ],
      "metadata": {
        "id": "2PVhRppdQmdp"
      }
    },
    {
      "cell_type": "markdown",
      "source": [
        "**What is a vector?**\n",
        "  - A vector is like an arrow. It has a length and direction.\n",
        "  - We represent them in code as a list of numbers.\n",
        "    - For example [3] is a one-dimensional vector, [2,3] is a two-dimensional vector, [.1, -.2, 4, 5.5, 6] is a 5-dimensional vector\n",
        "  - We can visualize a two dimensional vector [3,4] as follows\n",
        "    - Imagine we start at the origin and walk three steps to the right and four steps up.\n",
        "    - The vector [3,4] captures how far and in what direction we moved away from the origin\n",
        "    - the numbers 3 and 4 are often called scalars. They can be positive or negative. For instance, [-3,4] can be visualized as the vector we get by connecting the origin to the point we reach by walking three steps to the left and 4 steps up.\n",
        "  - Even though we cannot visualize any vector more than three dimensions, the vector operations we perform below applies to a vector of any dimension, starting from an 1-dimensional vector to a vector of n-dimensions (n is some positive integer)\n"
      ],
      "metadata": {
        "id": "Eo3gBtu-bmqP"
      }
    },
    {
      "cell_type": "markdown",
      "source": [
        "**Two-dimensional vectors visualized**\n",
        "\n",
        "![Screen Shot 2023-12-22 at 8.42.53 AM.png](data:image/png;base64,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)\n",
        "\n",
        "\n",
        "\n"
      ],
      "metadata": {
        "id": "RF4GmQ2_xLO3"
      }
    },
    {
      "cell_type": "markdown",
      "source": [
        "Examples of vectors in code"
      ],
      "metadata": {
        "id": "CdFYdAkRyUvT"
      }
    },
    {
      "cell_type": "code",
      "source": [
        "import numpy as np\n",
        "\n",
        "#one dimensional vector\n",
        "oned_vec = np.array([-2])\n",
        "print(\"1d:\",oned_vec)\n",
        "\n",
        "#two dimensional vectors\n",
        "twod_vec1 = np.array([-2,-5])\n",
        "print(\"2d:\",twod_vec1)\n",
        "\n",
        "twod_vec2 = np.array([6,4])\n",
        "print(\"2d:\",twod_vec2)\n",
        "\n",
        "#six dimensional vectors\n",
        "sixd_vec1 = np.array([3,4,6,-1,-2,-5])\n",
        "print(\"6d:\",sixd_vec1)\n",
        "print(\"Size:\",sixd_vec1.shape)\n",
        "\n",
        "sixd_vec2 = np.array([8,-1,-4,5,6,4])\n",
        "print(\"6d:\",sixd_vec2)\n",
        "print(\"Size:\",sixd_vec2.shape)\n"
      ],
      "metadata": {
        "id": "oYRbBStuycNt",
        "outputId": "acbd8fd4-921f-4e4e-b0d8-e7a1faecf60e",
        "colab": {
          "base_uri": "https://localhost:8080/"
        }
      },
      "execution_count": 15,
      "outputs": [
        {
          "output_type": "stream",
          "name": "stdout",
          "text": [
            "1d: [-2]\n",
            "2d: [-2 -5]\n",
            "2d: [6 4]\n",
            "6d: [ 3  4  6 -1 -2 -5]\n",
            "Size: (6,)\n",
            "6d: [ 8 -1 -4  5  6  4]\n",
            "Size: (6,)\n"
          ]
        }
      ]
    },
    {
      "cell_type": "markdown",
      "source": [
        "**Adding and subtracting vectors**"
      ],
      "metadata": {
        "id": "iu3848pk0KNA"
      }
    },
    {
      "cell_type": "code",
      "source": [
        "print(f\"Adding 2d vectors {twod_vec1} + {twod_vec2} = \",twod_vec1 + twod_vec2)\n",
        "print(f\"Subtracting 2d vectors {twod_vec1} - {twod_vec2} = \",twod_vec1 + twod_vec2)"
      ],
      "metadata": {
        "id": "P0YqB_I70WGb",
        "outputId": "20660efb-321e-49b3-e203-db203dde4a59",
        "colab": {
          "base_uri": "https://localhost:8080/"
        }
      },
      "execution_count": 11,
      "outputs": [
        {
          "output_type": "stream",
          "name": "stdout",
          "text": [
            "Adding 2d vectors [-2 -5] + [6 4] =  [ 4 -1]\n",
            "Subtracting 2d vectors [-2 -5] - [6 4] =  [ 4 -1]\n"
          ]
        }
      ]
    },
    {
      "cell_type": "code",
      "source": [
        "print(f\"Adding 6d vectors {sixd_vec1} + {sixd_vec2} = \",sixd_vec1 + sixd_vec2)\n",
        "print(f\"Subtracting 6d vectors {sixd_vec1} - {sixd_vec2} = \",sixd_vec1 + sixd_vec2)"
      ],
      "metadata": {
        "id": "afh0H7fV0wdo",
        "outputId": "c2e60586-6bbd-45b0-b942-284ebdf3e8dd",
        "colab": {
          "base_uri": "https://localhost:8080/"
        }
      },
      "execution_count": 13,
      "outputs": [
        {
          "output_type": "stream",
          "name": "stdout",
          "text": [
            "Adding 6d vectors [ 3  4  6 -1 -2 -5] + [ 8 -1 -4  5  6  4] =  [11  3  2  4  4 -1]\n",
            "Subtracting 6d vectors [ 3  4  6 -1 -2 -5] - [ 8 -1 -4  5  6  4] =  [11  3  2  4  4 -1]\n"
          ]
        }
      ]
    },
    {
      "cell_type": "markdown",
      "source": [
        "**Finding length (magnitude) of a vector**"
      ],
      "metadata": {
        "id": "cohk6yw3BWFV"
      }
    },
    {
      "cell_type": "code",
      "source": [
        "import math\n",
        "print(f\"Length of 2d vector using numpy library {twod_vec1}:\",np.linalg.norm(twod_vec1))\n",
        "print(\"Length is just square root of the sum of the squares of the components: \",math.sqrt(twod_vec1[0]**2 + twod_vec1[1]**2))\n",
        "\n",
        "print(f\"Length of 6d vector using numpy library {sixd_vec1}:\",np.linalg.norm(sixd_vec1))\n",
        "print(\"Length is just square root of the sum of the squares of the components: \",math.sqrt(sixd_vec1[0]**2 + sixd_vec1[1]**2 + sixd_vec1[2]**2 + sixd_vec1[3]**2 + sixd_vec1[4]**2 + sixd_vec1[5]**2))"
      ],
      "metadata": {
        "id": "imvMNyGVBfuB",
        "outputId": "c94e76e5-1d73-414d-c9d4-b1d9334ce802",
        "colab": {
          "base_uri": "https://localhost:8080/"
        }
      },
      "execution_count": 23,
      "outputs": [
        {
          "output_type": "stream",
          "name": "stdout",
          "text": [
            "Length of 2d vector using numpy library [-2 -5]: 5.385164807134504\n",
            "Length is just square root of the sum of the squares of the components:  5.385164807134504\n",
            "Length of 6d vector using numpy library [ 3  4  6 -1 -2 -5]: 9.539392014169456\n",
            "Length is just square root of the sum of the squares of the components:  9.539392014169456\n"
          ]
        }
      ]
    },
    {
      "cell_type": "markdown",
      "source": [
        "**Scaling a vector**"
      ],
      "metadata": {
        "id": "O4jFJ96NDa1Y"
      }
    },
    {
      "cell_type": "code",
      "source": [
        "scalar1 = 5\n",
        "scalar2 = .1\n",
        "scalar3 = -1\n",
        "scalar4 = -2\n",
        "\n",
        "#Scaling  a vector - in this case increasing its length\n",
        "print(f\"Length of 2d {twod_vec1} vector Before scaling:\",np.linalg.norm(twod_vec1))\n",
        "scaled_twod_vec1 = twod_vec1*scalar1\n",
        "print(f\"Length of 2d vector {twod_vec1} After scaling:\",np.linalg.norm(scaled_twod_vec1))\n",
        "\n",
        "#Scaling  a vector - in this case decreasing its length\n",
        "scaled_twod_vec1 = twod_vec1*scalar2\n",
        "print(f\"Length of 2d vector {twod_vec1} After scaling:\",np.linalg.norm(scaled_twod_vec1))\n",
        "\n",
        "#Scaling a vector - in this case reversing its direction but not changing its length\n",
        "scaled_twod_vec1 = twod_vec1*scalar3\n",
        "print(f\"2d vector {twod_vec1} After scaling {scaled_twod_vec1} . Length:\",np.linalg.norm(scaled_twod_vec1))\n",
        "\n",
        "#Scaling a vector - in this case reversing  direction and doubling its length\n",
        "scaled_twod_vec1 = twod_vec1*scalar4\n",
        "print(f\"2d vector {twod_vec1} After scaling {scaled_twod_vec1} . Length:\",np.linalg.norm(scaled_twod_vec1))"
      ],
      "metadata": {
        "id": "NF_dDUI2DdSN",
        "outputId": "9cf315c9-7d2b-4407-dc8e-e086e51a80d2",
        "colab": {
          "base_uri": "https://localhost:8080/"
        }
      },
      "execution_count": 32,
      "outputs": [
        {
          "output_type": "stream",
          "name": "stdout",
          "text": [
            "Length of 2d [-2 -5] vector Before scaling: 5.385164807134504\n",
            "Length of 2d vector [-2 -5] After scaling: 26.92582403567252\n",
            "Length of 2d vector [-2 -5] After scaling: 0.5385164807134505\n",
            "2d vector [-2 -5] After scaling [2 5] . Length: 5.385164807134504\n",
            "2d vector [-2 -5] After scaling [ 4 10] . Length: 10.770329614269007\n"
          ]
        }
      ]
    },
    {
      "cell_type": "markdown",
      "source": [],
      "metadata": {
        "id": "P042SyWOGtzt"
      }
    },
    {
      "cell_type": "markdown",
      "source": [
        "Note: Scaling a vector can **both** change\n",
        "- its length\n",
        "- and reverse its direction"
      ],
      "metadata": {
        "id": "zbas22w4GT_7"
      }
    },
    {
      "cell_type": "markdown",
      "source": [
        "**Normalizing a vector - scaling it down to a unit length vector**"
      ],
      "metadata": {
        "id": "Upfs4E-OGc_n"
      }
    },
    {
      "cell_type": "code",
      "source": [
        "#Step 1. Find length of vector\n",
        "length = np.linalg.norm(twod_vec1)\n",
        "print(f\"Length of 2d {twod_vec1} vector Before scaling:\",length)\n",
        "\n",
        "#Step 2: Divide each component of the vector by the computed length\n",
        "normalized_vector = twod_vec1/length\n",
        "print(f\"Length of normalized vector:\",np.linalg.norm(normalized_vector))\n",
        "\n",
        "#Another example of normalization\n",
        "print(f\"Length of normalized  6d vector:\",np.linalg.norm(sixd_vec1/np.linalg.norm(sixd_vec1)))"
      ],
      "metadata": {
        "id": "cE9mOWmBHNg1",
        "outputId": "d64039f6-749c-43bf-bb61-a89a4ae1232e",
        "colab": {
          "base_uri": "https://localhost:8080/"
        }
      },
      "execution_count": 35,
      "outputs": [
        {
          "output_type": "stream",
          "name": "stdout",
          "text": [
            "Length of 2d [-2 -5] vector Before scaling: 5.385164807134504\n",
            "Length of normalized vector: 1.0\n",
            "Length of normalized  6d vector: 1.0\n"
          ]
        }
      ]
    },
    {
      "cell_type": "code",
      "source": [],
      "metadata": {
        "id": "-H6ov8apREHY"
      },
      "execution_count": null,
      "outputs": []
    },
    {
      "cell_type": "markdown",
      "source": [
        "**Finding the angle between two vectors**"
      ],
      "metadata": {
        "id": "YY8twhMdIRo4"
      }
    },
    {
      "cell_type": "markdown",
      "source": [
        "To find the angle between two vectors, we will make use of an operation between vectors called the dot product.\n",
        "\n",
        "The dot product of two vectors a and b (both of the same dimension) is the sum of the products of each element of a with corresponding element of b. For example the dot produce of [2,3] and [4,5] = 2 * 4 + 3 * 5 = 23\n",
        "\n",
        "\n",
        "Essentially the dot product of two vectors (of the same dimension) collapses the two vectors into a single number that\n",
        " - tell us if the two vectors are pointing in the same direction or not. If they are pointing in the same direction the value is positive, if they are pointing in opposite direction the value is negative. If they are perpendicular to each other the value is 0\n",
        "\n",
        "Another way to look at the dot product, is it tell us if two vectors are correlated (pointing in the same direction) or not correlatated (perpendicular to each other or pointing away from each other)\n"
      ],
      "metadata": {
        "id": "eZGoxwiIOOzg"
      }
    },
    {
      "cell_type": "code",
      "source": [
        "#Lets define some two dimensional vectors to get an intution for dot product\n",
        "twod_vec1 = np.array([2,5])\n",
        "print(\"2d vec1:\",twod_vec1)\n",
        "\n",
        "twod_vec2 = np.array([6,4])\n",
        "print(\"2d vec2:\",twod_vec2)\n",
        "\n",
        "twod_vec3 = np.array([2,0])\n",
        "print(\"2d vector along x axis:\",twod_vec3)\n",
        "\n",
        "twod_vec4 = np.array([0,4])\n",
        "print(\"2d vector along y axis:\",twod_vec4)\n",
        "\n",
        "twod_vec5 = np.array([0,-6])\n",
        "print(\"2d vector along y axis point in the negative direction:\",twod_vec5)\n",
        "\n",
        "twod_vec6 = np.array([-3,-9])\n",
        "print(\"2d vector along y axis point in the negative direction:\",twod_vec6)\n",
        "print()\n",
        "\n",
        "print(f\"Dot product of {twod_vec1} and {twod_vec2} pointing roughly in the same direction: \",np.dot(twod_vec1,twod_vec2))\n",
        "print(f\"Dot product of {twod_vec1} and {twod_vec2} done manually: \",twod_vec1[0]*twod_vec2[0]  + twod_vec1[1]*twod_vec2[1])\n",
        "print()\n",
        "\n",
        "print(f\"Dot product of {twod_vec1} and {twod_vec6} pointing in roughly opposite directions: \",np.dot(twod_vec1,twod_vec6))\n",
        "print()\n",
        "print(f\"Dot product of a vector with itself: {twod_vec6} and {twod_vec6}: \",np.dot(twod_vec6,twod_vec6))\n",
        "print(f\"Dot product of a vector with itself: {twod_vec1} and {twod_vec1}: \",np.dot(twod_vec1,twod_vec1))\n",
        "print()\n",
        "\n",
        "print(f\"Dot product of a vector along x axis and a vector along y axis: {twod_vec3} and {twod_vec4}: \",np.dot(twod_vec3,twod_vec4))\n",
        "\n",
        "print(f\"Dot product of two vectors along y axis but in opposite directions: {twod_vec4} and {twod_vec5}: \",np.dot(twod_vec4,twod_vec5))"
      ],
      "metadata": {
        "id": "M1UprC0-Qawi",
        "outputId": "91a86283-0124-4fc1-a33f-eede7c4b7f4d",
        "colab": {
          "base_uri": "https://localhost:8080/"
        }
      },
      "execution_count": 48,
      "outputs": [
        {
          "output_type": "stream",
          "name": "stdout",
          "text": [
            "2d vec1: [2 5]\n",
            "2d vec2: [6 4]\n",
            "2d vector along x axis: [2 0]\n",
            "2d vector along y axis: [0 4]\n",
            "2d vector along y axis point in the negative direction: [ 0 -6]\n",
            "2d vector along y axis point in the negative direction: [-3 -9]\n",
            "\n",
            "Dot product of [2 5] and [6 4] pointing roughly in the same direction:  32\n",
            "Dot product of [2 5] and [6 4] done manually:  32\n",
            "\n",
            "Dot product of [2 5] and [-3 -9] pointing in roughly opposite directions:  -51\n",
            "\n",
            "Dot product of a vector with itself: [-3 -9] and [-3 -9]:  90\n",
            "Dot product of a vector with itself: [2 5] and [2 5]:  29\n",
            "\n",
            "Dot product of a vector along x axis and a vector along y axis: [2 0] and [0 4]:  0\n",
            "Dot product of two vectors along y axis but in opposite directions: [0 4] and [ 0 -6]:  -24\n"
          ]
        }
      ]
    },
    {
      "cell_type": "markdown",
      "source": [
        "From the examples above we can see the dot product value captures information about the angle between the two vectors.\n",
        "In fact there is a formula that captures this relationship between dot products and angles.\n",
        "\n",
        "The dot product of two vectors **a** and **b** is also numerically the same as\n",
        "\n",
        "  - _magnitude(a) * magnitude(b) * cosine(angle between a and b)_\n",
        "\n",
        "we will use this fact to find the angle between two vectors\n",
        "\n",
        "Also if we normalize both the vectors before we do a dot poduct, from the above formula we can see that we can directly get the cosine value of the angle between the vectors"
      ],
      "metadata": {
        "id": "vaZJ2UJsTKX6"
      }
    },
    {
      "cell_type": "code",
      "source": [
        "def normalized_dot(message,vec1,vec2):\n",
        "  dot_product_value = np.dot(vec1/np.linalg.norm(vec1),vec2/np.linalg.norm(vec2))\n",
        "  dot_product_value = np.round(dot_product_value,6)\n",
        "\n",
        "  angle_in_radians = np.arccos(dot_product_value)\n",
        "  angle_in_degrees = round(np.degrees(angle_in_radians),1)\n",
        "  print(message,angle_in_degrees)\n",
        "  print(\"Dot product value:\",round(dot_product_value,2))\n",
        "\n",
        "\n",
        "\n",
        "normalized_dot(f\"Angle in degrees between {twod_vec1} and {twod_vec2} pointing roughly in the same direction: \",twod_vec1,twod_vec2)\n",
        "print()\n",
        "\n",
        "normalized_dot(f\"Angle in degrees  between {twod_vec1} and {twod_vec6} pointing in roughly opposite directions: \",twod_vec1,twod_vec6)\n",
        "print()\n",
        "normalized_dot(f\"Angle in degrees  between a vector {twod_vec6} and itself: \",twod_vec6,twod_vec6)\n",
        "normalized_dot(f\"Angle in degrees  between a vector {twod_vec1} and itself: \",twod_vec1,twod_vec1)\n",
        "print()\n",
        "\n",
        "normalized_dot(f\"Angle in degrees  between a vector along x axis and a vector along y axis: {twod_vec3} and {twod_vec4}: \",twod_vec3,twod_vec4)\n",
        "\n",
        "normalized_dot(f\"Angle in degrees  between two vectors along y axis but in opposite directions: {twod_vec4} and {twod_vec5}: \",twod_vec4,twod_vec5)\n",
        "print()\n",
        "\n",
        "#Two random 100 dimensional vectors\n",
        "random_vector1 = np.random.rand(100)\n",
        "random_vector2 = np.random.rand(100)\n",
        "print(f\"Random vec1: {random_vector1[:5]}...\")\n",
        "print(f\"Random vec2: {random_vector2[:5]}...\")\n",
        "normalized_dot(f\"Angle in degrees  between two 100 dimensional vectors: vec1 and vec2: \",random_vector1,random_vector2)\n"
      ],
      "metadata": {
        "id": "D_Jrn7yZbVj0",
        "outputId": "8e415f4f-1f69-4a6c-efdb-0a695891415f",
        "colab": {
          "base_uri": "https://localhost:8080/"
        }
      },
      "execution_count": 93,
      "outputs": [
        {
          "output_type": "stream",
          "name": "stdout",
          "text": [
            "Angle in degrees between [2 5] and [6 4] pointing roughly in the same direction:  34.5\n",
            "Dot product value: 0.82\n",
            "\n",
            "Angle in degrees  between [2 5] and [-3 -9] pointing in roughly opposite directions:  176.6\n",
            "Dot product value: -1.0\n",
            "\n",
            "Angle in degrees  between a vector [-3 -9] and itself:  0.0\n",
            "Dot product value: 1.0\n",
            "Angle in degrees  between a vector [2 5] and itself:  0.0\n",
            "Dot product value: 1.0\n",
            "\n",
            "Angle in degrees  between a vector along x axis and a vector along y axis: [2 0] and [0 4]:  90.0\n",
            "Dot product value: 0.0\n",
            "Angle in degrees  between two vectors along y axis but in opposite directions: [0 4] and [ 0 -6]:  180.0\n",
            "Dot product value: -1.0\n",
            "\n",
            "Random vec1: [0.54754062 0.89521496 0.75677088 0.34163681 0.8802254 ]...\n",
            "Random vec2: [0.55717324 0.10688454 0.4045736  0.15357533 0.00287052]...\n",
            "Angle in degrees  between two 100 dimensional vectors: vec1 and vec2:  38.8\n",
            "Dot product value: 0.78\n"
          ]
        }
      ]
    }
  ]
}