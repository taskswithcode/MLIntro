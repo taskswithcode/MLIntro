{
  "nbformat": 4,
  "nbformat_minor": 0,
  "metadata": {
    "colab": {
      "name": "VectorIntuition.ipynb",
      "provenance": [],
      "include_colab_link": true
    },
    "kernelspec": {
      "name": "python3",
      "display_name": "Python 3"
    },
    "language_info": {
      "name": "python"
    }
  },
  "cells": [
    {
      "cell_type": "markdown",
      "metadata": {
        "id": "view-in-github",
        "colab_type": "text"
      },
      "source": [
        "<a href=\"https://colab.research.google.com/github/taskswithcode/MLIntro/blob/main/notebooks/VectorIntuition.ipynb\" target=\"_parent\"><img src=\"https://colab.research.google.com/assets/colab-badge.svg\" alt=\"Open In Colab\"/></a>"
      ]
    },
    {
      "cell_type": "markdown",
      "source": [
        "This is the notebook for the video\n",
        "- [Intuition for Vectors in Machine learning?](https://youtube.com/shorts/lTV9mYCniS4?si=6InAJ9ABDKAzokeH)\n",
        "- [Code walkthrough of this notebook](https://youtu.be/Y7CvMhjBsfw) [![Code Walkthrough](https://raw.githubusercontent.com/taskswithcode/image_assets/main/.github/images/walkthrough.svg)](https://youtu.be/Y7CvMhjBsfw)\n"
      ],
      "metadata": {
        "id": "fGa1CrF1lyMn"
      }
    },
    {
      "cell_type": "markdown",
      "source": [
        "In this notebook, we will first develop an intuition for what a vector is and then go through the code for few basic vector operations often used in machine learning.\n",
        "- Adding two vectors\n",
        "- Subtracting one vector from another\n",
        "- Finding length of a vector\n",
        "- Scaling a vector\n",
        "- Finding the angle betweeen two vectors\n",
        "\n",
        "We will then look at a simple model that utilizes all these operations.\n",
        "\n"
      ],
      "metadata": {
        "id": "2PVhRppdQmdp"
      }
    },
    {
      "cell_type": "markdown",
      "source": [
        "##### Part 1 - Intuition for Vectors through code"
      ],
      "metadata": {
        "id": "NzuHLyhp2OAE"
      }
    },
    {
      "cell_type": "markdown",
      "source": [
        "**What is a vector?**\n",
        "  - A vector is like an arrow. It has a length and direction.\n",
        "  - We represent them in code as a list of numbers.\n",
        "    - For example [3] is a one-dimensional vector, [2,3] is a two-dimensional vector, [.1, -.2, 4, 5.5, 6] is a 5-dimensional vector\n",
        "  - We can visualize a two dimensional vector [3,4] as follows\n",
        "    - Imagine we start at the origin and walk three steps to the right and four steps up.\n",
        "    - The vector [3,4] captures how far and in what direction we moved away from the origin\n",
        "    - the numbers 3 and 4 are often called scalars. They can be positive or negative. For instance, [-3,4] can be visualized as the vector we get by connecting the origin to the point we reach by walking three steps to the left and 4 steps up.\n",
        "  - Even though we cannot visualize any vector more than three dimensions, the vector operations we perform below applies to a vector of any dimension, starting from an 1-dimensional vector to a vector of n-dimensions (n is some positive integer)\n"
      ],
      "metadata": {
        "id": "Eo3gBtu-bmqP"
      }
    },
    {
      "cell_type": "markdown",
      "source": [
        "**Two-dimensional vectors visualized**\n",
        "\n",
        "![Screen Shot 2023-12-22 at 8.42.53 AM.png](data:image/png;base64,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)\n",
        "\n",
        "\n",
        "\n"
      ],
      "metadata": {
        "id": "RF4GmQ2_xLO3"
      }
    },
    {
      "cell_type": "markdown",
      "source": [
        "Examples of vectors in code"
      ],
      "metadata": {
        "id": "CdFYdAkRyUvT"
      }
    },
    {
      "cell_type": "code",
      "source": [
        "import numpy as np\n",
        "\n",
        "#one dimensional vector\n",
        "oned_vec = np.array([-2])\n",
        "print(\"1d:\",oned_vec)\n",
        "\n",
        "#two dimensional vectors\n",
        "twod_vec1 = np.array([-2,-5])\n",
        "print(\"2d:\",twod_vec1)\n",
        "\n",
        "twod_vec2 = np.array([6,4])\n",
        "print(\"2d:\",twod_vec2)\n",
        "\n",
        "#six dimensional vectors\n",
        "sixd_vec1 = np.array([3,4,6,-1,-2,-5])\n",
        "print(\"6d:\",sixd_vec1)\n",
        "print(\"Size:\",sixd_vec1.shape)\n",
        "\n",
        "sixd_vec2 = np.array([8,-1,-4,5,6,4])\n",
        "print(\"6d:\",sixd_vec2)\n",
        "print(\"Size:\",sixd_vec2.shape)\n"
      ],
      "metadata": {
        "id": "oYRbBStuycNt",
        "outputId": "77cb2413-7958-4c29-fe07-9893e09ac116",
        "colab": {
          "base_uri": "https://localhost:8080/"
        }
      },
      "execution_count": null,
      "outputs": [
        {
          "output_type": "stream",
          "name": "stdout",
          "text": [
            "1d: [-2]\n",
            "2d: [-2 -5]\n",
            "2d: [6 4]\n",
            "6d: [ 3  4  6 -1 -2 -5]\n",
            "Size: (6,)\n",
            "6d: [ 8 -1 -4  5  6  4]\n",
            "Size: (6,)\n"
          ]
        }
      ]
    },
    {
      "cell_type": "markdown",
      "source": [
        "**Adding and subtracting vectors**"
      ],
      "metadata": {
        "id": "iu3848pk0KNA"
      }
    },
    {
      "cell_type": "code",
      "source": [
        "print(f\"Adding 2d vectors {twod_vec1} + {twod_vec2} = \",twod_vec1 + twod_vec2)\n",
        "print(f\"Subtracting 2d vectors {twod_vec1} - {twod_vec2} = \",twod_vec1 + twod_vec2)"
      ],
      "metadata": {
        "id": "P0YqB_I70WGb",
        "outputId": "04e92e08-25bf-4a9e-f593-beb88501cffd",
        "colab": {
          "base_uri": "https://localhost:8080/"
        }
      },
      "execution_count": null,
      "outputs": [
        {
          "output_type": "stream",
          "name": "stdout",
          "text": [
            "Adding 2d vectors [-2 -5] + [6 4] =  [ 4 -1]\n",
            "Subtracting 2d vectors [-2 -5] - [6 4] =  [ 4 -1]\n"
          ]
        }
      ]
    },
    {
      "cell_type": "code",
      "source": [
        "print(f\"Adding 6d vectors {sixd_vec1} + {sixd_vec2} = \",sixd_vec1 + sixd_vec2)\n",
        "print(f\"Subtracting 6d vectors {sixd_vec1} - {sixd_vec2} = \",sixd_vec1 + sixd_vec2)"
      ],
      "metadata": {
        "id": "afh0H7fV0wdo",
        "outputId": "be0e6e4c-29d3-4459-db43-58b483c252b9",
        "colab": {
          "base_uri": "https://localhost:8080/"
        }
      },
      "execution_count": null,
      "outputs": [
        {
          "output_type": "stream",
          "name": "stdout",
          "text": [
            "Adding 6d vectors [ 3  4  6 -1 -2 -5] + [ 8 -1 -4  5  6  4] =  [11  3  2  4  4 -1]\n",
            "Subtracting 6d vectors [ 3  4  6 -1 -2 -5] - [ 8 -1 -4  5  6  4] =  [11  3  2  4  4 -1]\n"
          ]
        }
      ]
    },
    {
      "cell_type": "markdown",
      "source": [
        "**Finding length (magnitude) of a vector**"
      ],
      "metadata": {
        "id": "cohk6yw3BWFV"
      }
    },
    {
      "cell_type": "code",
      "source": [
        "import math\n",
        "print(f\"Length of 2d vector using numpy library {twod_vec1}:\",np.linalg.norm(twod_vec1))\n",
        "print(\"Length is just square root of the sum of the squares of the components: \",math.sqrt(twod_vec1[0]**2 + twod_vec1[1]**2))\n",
        "\n",
        "print(f\"Length of 6d vector using numpy library {sixd_vec1}:\",np.linalg.norm(sixd_vec1))\n",
        "print(\"Length is just square root of the sum of the squares of the components: \",math.sqrt(sixd_vec1[0]**2 + sixd_vec1[1]**2 + sixd_vec1[2]**2 + sixd_vec1[3]**2 + sixd_vec1[4]**2 + sixd_vec1[5]**2))"
      ],
      "metadata": {
        "id": "imvMNyGVBfuB",
        "outputId": "bb6b85c6-b6b7-4ae1-9334-0e51908335f6",
        "colab": {
          "base_uri": "https://localhost:8080/"
        }
      },
      "execution_count": null,
      "outputs": [
        {
          "output_type": "stream",
          "name": "stdout",
          "text": [
            "Length of 2d vector using numpy library [-2 -5]: 5.385164807134504\n",
            "Length is just square root of the sum of the squares of the components:  5.385164807134504\n",
            "Length of 6d vector using numpy library [ 3  4  6 -1 -2 -5]: 9.539392014169456\n",
            "Length is just square root of the sum of the squares of the components:  9.539392014169456\n"
          ]
        }
      ]
    },
    {
      "cell_type": "markdown",
      "source": [
        "**Scaling a vector**"
      ],
      "metadata": {
        "id": "O4jFJ96NDa1Y"
      }
    },
    {
      "cell_type": "code",
      "source": [
        "scalar1 = 5\n",
        "scalar2 = .1\n",
        "scalar3 = -1\n",
        "scalar4 = -2\n",
        "\n",
        "#Scaling  a vector - in this case increasing its length\n",
        "print(f\"Length of 2d {twod_vec1} vector Before scaling:\",np.linalg.norm(twod_vec1))\n",
        "scaled_twod_vec1 = twod_vec1*scalar1\n",
        "print(f\"Length of 2d vector {twod_vec1} After scaling:\",np.linalg.norm(scaled_twod_vec1))\n",
        "\n",
        "#Scaling  a vector - in this case decreasing its length\n",
        "scaled_twod_vec1 = twod_vec1*scalar2\n",
        "print(f\"Length of 2d vector {twod_vec1} After scaling:\",np.linalg.norm(scaled_twod_vec1))\n",
        "\n",
        "#Scaling a vector - in this case reversing its direction but not changing its length\n",
        "scaled_twod_vec1 = twod_vec1*scalar3\n",
        "print(f\"2d vector {twod_vec1} After scaling {scaled_twod_vec1} . Length:\",np.linalg.norm(scaled_twod_vec1))\n",
        "\n",
        "#Scaling a vector - in this case reversing  direction and doubling its length\n",
        "scaled_twod_vec1 = twod_vec1*scalar4\n",
        "print(f\"2d vector {twod_vec1} After scaling {scaled_twod_vec1} . Length:\",np.linalg.norm(scaled_twod_vec1))"
      ],
      "metadata": {
        "id": "NF_dDUI2DdSN",
        "outputId": "c2f41314-2b8c-4a62-cb93-c5250c11455f",
        "colab": {
          "base_uri": "https://localhost:8080/"
        }
      },
      "execution_count": null,
      "outputs": [
        {
          "output_type": "stream",
          "name": "stdout",
          "text": [
            "Length of 2d [-2 -5] vector Before scaling: 5.385164807134504\n",
            "Length of 2d vector [-2 -5] After scaling: 26.92582403567252\n",
            "Length of 2d vector [-2 -5] After scaling: 0.5385164807134505\n",
            "2d vector [-2 -5] After scaling [2 5] . Length: 5.385164807134504\n",
            "2d vector [-2 -5] After scaling [ 4 10] . Length: 10.770329614269007\n"
          ]
        }
      ]
    },
    {
      "cell_type": "markdown",
      "source": [],
      "metadata": {
        "id": "P042SyWOGtzt"
      }
    },
    {
      "cell_type": "markdown",
      "source": [
        "Note: Scaling a vector can **both** change\n",
        "- its length\n",
        "- and reverse its direction"
      ],
      "metadata": {
        "id": "zbas22w4GT_7"
      }
    },
    {
      "cell_type": "markdown",
      "source": [
        "**Normalizing a vector - i.e. scaling it down to a unit length vector**"
      ],
      "metadata": {
        "id": "Upfs4E-OGc_n"
      }
    },
    {
      "cell_type": "code",
      "source": [
        "#Step 1. Find length of vector\n",
        "length = np.linalg.norm(twod_vec1)\n",
        "print(f\"Length of 2d {twod_vec1} vector Before scaling:\",length)\n",
        "\n",
        "#Step 2: Divide each component of the vector by the computed length\n",
        "normalized_vector = twod_vec1/length\n",
        "print(f\"Length of normalized vector:\",np.linalg.norm(normalized_vector))\n",
        "\n",
        "#Another example of normalization\n",
        "print(f\"Length of normalized  6d vector:\",np.linalg.norm(sixd_vec1/np.linalg.norm(sixd_vec1)))"
      ],
      "metadata": {
        "id": "cE9mOWmBHNg1",
        "outputId": "c0bef97c-23b0-4452-b360-fe75041afc01",
        "colab": {
          "base_uri": "https://localhost:8080/"
        }
      },
      "execution_count": null,
      "outputs": [
        {
          "output_type": "stream",
          "name": "stdout",
          "text": [
            "Length of 2d [-2 -5] vector Before scaling: 5.385164807134504\n",
            "Length of normalized vector: 1.0\n",
            "Length of normalized  6d vector: 1.0\n"
          ]
        }
      ]
    },
    {
      "cell_type": "code",
      "source": [],
      "metadata": {
        "id": "-H6ov8apREHY"
      },
      "execution_count": null,
      "outputs": []
    },
    {
      "cell_type": "markdown",
      "source": [
        "**Finding the angle between two vectors**"
      ],
      "metadata": {
        "id": "YY8twhMdIRo4"
      }
    },
    {
      "cell_type": "markdown",
      "source": [
        "To find the angle between two vectors, we will make use of an operation between vectors called the dot product.\n",
        "\n",
        "The dot product of two vectors a and b (both of the same dimension) is the sum of the products of each element of a with corresponding element of b. For example the dot produce of [2,3] and [4,5] = 2 * 4 + 3 * 5 = 23\n",
        "\n",
        "\n",
        "Essentially the dot product of two vectors (of the same dimension) collapses the two vectors into a single number that\n",
        " - tell us if the two vectors are pointing in the same direction or not. If they are pointing in the same direction the value is positive, if they are pointing in opposite direction the value is negative. If they are perpendicular to each other the value is 0\n",
        "\n",
        "Another way to look at the dot product, is it tell us if two vectors are correlated (pointing in the same direction) or not correlatated (perpendicular to each other or pointing away from each other)\n"
      ],
      "metadata": {
        "id": "eZGoxwiIOOzg"
      }
    },
    {
      "cell_type": "code",
      "source": [
        "#Lets define some two dimensional vectors to get an intution for dot product\n",
        "twod_vec1 = np.array([2,5])\n",
        "print(\"2d vec1:\",twod_vec1)\n",
        "\n",
        "twod_vec2 = np.array([6,4])\n",
        "print(\"2d vec2:\",twod_vec2)\n",
        "\n",
        "twod_vec3 = np.array([2,0])\n",
        "print(\"2d vector along x axis:\",twod_vec3)\n",
        "\n",
        "twod_vec4 = np.array([0,4])\n",
        "print(\"2d vector along y axis:\",twod_vec4)\n",
        "\n",
        "twod_vec5 = np.array([0,-6])\n",
        "print(\"2d vector along y axis point in the negative direction:\",twod_vec5)\n",
        "\n",
        "twod_vec6 = np.array([-3,-9])\n",
        "print(\"2d vector along y axis point in the negative direction:\",twod_vec6)\n",
        "print()\n",
        "\n",
        "print(f\"Dot product of {twod_vec1} and {twod_vec2} pointing roughly in the same direction: \",np.dot(twod_vec1,twod_vec2))\n",
        "print(f\"Dot product of {twod_vec1} and {twod_vec2} done manually: \",twod_vec1[0]*twod_vec2[0]  + twod_vec1[1]*twod_vec2[1])\n",
        "print()\n",
        "\n",
        "print(f\"Dot product of {twod_vec1} and {twod_vec6} pointing in roughly opposite directions: \",np.dot(twod_vec1,twod_vec6))\n",
        "print()\n",
        "print(f\"Dot product of a vector with itself: {twod_vec6} and {twod_vec6}: \",np.dot(twod_vec6,twod_vec6))\n",
        "print(f\"Dot product of a vector with itself: {twod_vec1} and {twod_vec1}: \",np.dot(twod_vec1,twod_vec1))\n",
        "print()\n",
        "\n",
        "print(f\"Dot product of a vector along x axis and a vector along y axis: {twod_vec3} and {twod_vec4}: \",np.dot(twod_vec3,twod_vec4))\n",
        "\n",
        "print(f\"Dot product of two vectors along y axis but in opposite directions: {twod_vec4} and {twod_vec5}: \",np.dot(twod_vec4,twod_vec5))"
      ],
      "metadata": {
        "id": "M1UprC0-Qawi",
        "outputId": "01dbd25b-92f4-42b8-ad8b-bee795377624",
        "colab": {
          "base_uri": "https://localhost:8080/"
        }
      },
      "execution_count": null,
      "outputs": [
        {
          "output_type": "stream",
          "name": "stdout",
          "text": [
            "2d vec1: [2 5]\n",
            "2d vec2: [6 4]\n",
            "2d vector along x axis: [2 0]\n",
            "2d vector along y axis: [0 4]\n",
            "2d vector along y axis point in the negative direction: [ 0 -6]\n",
            "2d vector along y axis point in the negative direction: [-3 -9]\n",
            "\n",
            "Dot product of [2 5] and [6 4] pointing roughly in the same direction:  32\n",
            "Dot product of [2 5] and [6 4] done manually:  32\n",
            "\n",
            "Dot product of [2 5] and [-3 -9] pointing in roughly opposite directions:  -51\n",
            "\n",
            "Dot product of a vector with itself: [-3 -9] and [-3 -9]:  90\n",
            "Dot product of a vector with itself: [2 5] and [2 5]:  29\n",
            "\n",
            "Dot product of a vector along x axis and a vector along y axis: [2 0] and [0 4]:  0\n",
            "Dot product of two vectors along y axis but in opposite directions: [0 4] and [ 0 -6]:  -24\n"
          ]
        }
      ]
    },
    {
      "cell_type": "markdown",
      "source": [
        "From the examples above we can see the dot product value captures information about the angle between the two vectors.\n",
        "In fact there is a formula that captures this relationship between dot products and angles.\n",
        "\n",
        "The dot product of two vectors **a** and **b** is also numerically the same as\n",
        "\n",
        "  - _magnitude(a) * magnitude(b) * cosine(angle between a and b)_\n",
        "\n",
        "we will use this fact to find the angle between two vectors\n",
        "\n",
        "Also if we normalize both the vectors before we do a dot poduct, from the above formula we can see that we can directly get the cosine value of the angle between the vectors"
      ],
      "metadata": {
        "id": "vaZJ2UJsTKX6"
      }
    },
    {
      "cell_type": "code",
      "source": [
        "def normalized_dot(message,vec1,vec2):\n",
        "  dot_product_value = np.dot(vec1/np.linalg.norm(vec1),vec2/np.linalg.norm(vec2))\n",
        "  dot_product_value = np.round(dot_product_value,6)\n",
        "\n",
        "  angle_in_radians = np.arccos(dot_product_value)\n",
        "  angle_in_degrees = round(np.degrees(angle_in_radians),1)\n",
        "  print(message,angle_in_degrees)\n",
        "  print(\"Dot product value:\",round(dot_product_value,2))\n",
        "\n",
        "\n",
        "\n",
        "normalized_dot(f\"Angle in degrees between {twod_vec1} and {twod_vec2} pointing roughly in the same direction: \",twod_vec1,twod_vec2)\n",
        "print()\n",
        "\n",
        "normalized_dot(f\"Angle in degrees  between {twod_vec1} and {twod_vec6} pointing in roughly opposite directions: \",twod_vec1,twod_vec6)\n",
        "print()\n",
        "normalized_dot(f\"Angle in degrees  between a vector {twod_vec6} and itself: \",twod_vec6,twod_vec6)\n",
        "normalized_dot(f\"Angle in degrees  between a vector {twod_vec1} and itself: \",twod_vec1,twod_vec1)\n",
        "print()\n",
        "\n",
        "normalized_dot(f\"Angle in degrees  between a vector along x axis and a vector along y axis: {twod_vec3} and {twod_vec4}: \",twod_vec3,twod_vec4)\n",
        "\n",
        "normalized_dot(f\"Angle in degrees  between two vectors along y axis but in opposite directions: {twod_vec4} and {twod_vec5}: \",twod_vec4,twod_vec5)\n",
        "print()\n",
        "\n",
        "#Two random 100 dimensional vectors\n",
        "random_vector1 = np.random.rand(100)\n",
        "random_vector2 = np.random.rand(100)\n",
        "print(f\"Random vec1: {random_vector1[:5]}...\")\n",
        "print(f\"Random vec2: {random_vector2[:5]}...\")\n",
        "normalized_dot(f\"Angle in degrees  between two 100 dimensional vectors: vec1 and vec2: \",random_vector1,random_vector2)\n"
      ],
      "metadata": {
        "id": "D_Jrn7yZbVj0",
        "outputId": "eac6ba8e-e9bb-45ff-b990-cc93b118f93d",
        "colab": {
          "base_uri": "https://localhost:8080/"
        }
      },
      "execution_count": null,
      "outputs": [
        {
          "output_type": "stream",
          "name": "stdout",
          "text": [
            "Angle in degrees between [2 5] and [6 4] pointing roughly in the same direction:  34.5\n",
            "Dot product value: 0.82\n",
            "\n",
            "Angle in degrees  between [2 5] and [-3 -9] pointing in roughly opposite directions:  176.6\n",
            "Dot product value: -1.0\n",
            "\n",
            "Angle in degrees  between a vector [-3 -9] and itself:  0.0\n",
            "Dot product value: 1.0\n",
            "Angle in degrees  between a vector [2 5] and itself:  0.0\n",
            "Dot product value: 1.0\n",
            "\n",
            "Angle in degrees  between a vector along x axis and a vector along y axis: [2 0] and [0 4]:  90.0\n",
            "Dot product value: 0.0\n",
            "Angle in degrees  between two vectors along y axis but in opposite directions: [0 4] and [ 0 -6]:  180.0\n",
            "Dot product value: -1.0\n",
            "\n",
            "Random vec1: [0.79702322 0.18133177 0.73296421 0.91433143 0.94984546]...\n",
            "Random vec2: [0.64743855 0.20405993 0.79789146 0.40003296 0.2643571 ]...\n",
            "Angle in degrees  between two 100 dimensional vectors: vec1 and vec2:  42.0\n",
            "Dot product value: 0.74\n"
          ]
        }
      ]
    },
    {
      "cell_type": "code",
      "source": [],
      "metadata": {
        "id": "tu64J8qG-1df"
      },
      "execution_count": null,
      "outputs": []
    },
    {
      "cell_type": "markdown",
      "source": [
        "##### Part 2. A machine learning model that uses all the above vector operations"
      ],
      "metadata": {
        "id": "Cvm8VIn72cOd"
      }
    },
    {
      "cell_type": "markdown",
      "source": [
        "[Word2vec](https://github.com/tmikolov/word2vec) is a model that utilizes all the above vector operations. This model takes in as input a text corpus, and outputs vectors for each unique word in the text corpus. These vectors capture semantic similarity between words, in the angle between them. For instance, the angle between the words **cats** and **dogs** would be smaller than the angle between **cats** and **quantum**.\n",
        "\n"
      ],
      "metadata": {
        "id": "H_YrXh4B2xCG"
      }
    },
    {
      "cell_type": "markdown",
      "source": [
        "*Illustration of relatedness between word vectors captured in the angle between them*\n",
        "\n",
        "![Screen Shot 2023-12-22 at 2.32.16 PM.png](data:image/png;base64,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)\n",
        "\n"
      ],
      "metadata": {
        "id": "kbRcYYcE-9As"
      }
    },
    {
      "cell_type": "markdown",
      "source": [
        "The model learns this through a simple training procedure. Lets say we decide to represent each word as a 200 dimension vector\n",
        "\n",
        "At first all the unique words in the model are assigned a randomly generated vector\n",
        "Then each sentence in the input corpus is taken and the vectors for each word is nudged closer to the vectors for other words in the sentence, while at the same time nudging each vector away from other few other words not present in the sentence.\n",
        "For instance, consider the sentence \"A dog played in the house\".\n",
        "- The vector for \"A\" is tugged close to the other words, while at the same time tugged away from few words not occurring in the sentence.\n",
        "- The same procedure is repeated for \"dog\", \"played\" etc.\n",
        "- Tugging closer here means, taking a small component of say \"dog\" (scaling vector for dog by a fraction) and adding it to \"A\" vector.\n",
        "- Tugging away means, taking a small component of say the vector for \"the\" and subtracting it from A.\n",
        "- Doing this for over and over for all words in the corpus yields vectors that are semantically related.\n",
        "In essence we use vector addition,vector subtraction, and vector scaling, during training.\n",
        "\n",
        "Once training is done, we can examine the semantic similarity between vectors. To do this,\n",
        "\n",
        "- we normalize each vector - that is convert it to unit vectors.\n",
        "- Then we can take the vector for any word in the corpus and examine how related it is to other words by doing a dot product between them.\n",
        "So during inference, we use vector normalization and dot products to find angles between vectors."
      ],
      "metadata": {
        "id": "ETFqq3lj-4N2"
      }
    }
  ]
}